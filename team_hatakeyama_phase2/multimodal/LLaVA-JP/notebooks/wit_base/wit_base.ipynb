{
 "cells": [
  {
   "cell_type": "code",
   "execution_count": 1,
   "id": "5dc6130a-cee7-41b5-b674-e8b876ddd3aa",
   "metadata": {},
   "outputs": [],
   "source": [
    "import json"
   ]
  },
  {
   "cell_type": "code",
   "execution_count": 2,
   "id": "265b0f9a-310d-430f-a2fb-b7e97c519556",
   "metadata": {},
   "outputs": [],
   "source": [
    "with open(\"../../tools/wit_base/wit_base.jsonl\", \"r\", encoding=\"utf-8\") as f:\n",
    "    lines = f.readlines()"
   ]
  },
  {
   "cell_type": "code",
   "execution_count": 3,
   "id": "bf146d1d-ed0f-42e6-800d-a6ca26a07a07",
   "metadata": {},
   "outputs": [
    {
     "name": "stdout",
     "output_type": "stream",
     "text": [
      "dict_keys(['image_url', 'embedding', 'metadata_url', 'original_height', 'original_width', 'mime_type', 'caption_attribution_description', 'wit_features', 'image_name'])\n",
      "{\n",
      "    \"image_url\": \"https://upload.wikimedia.org/wikipedia/commons/a/ac/Parque_Paseo_del_Sol_en_Charata.JPG\",\n",
      "    \"metadata_url\": \"http://commons.wikimedia.org/wiki/File:Parque_Paseo_del_Sol_en_Charata.JPG\",\n",
      "    \"original_height\": 3456,\n",
      "    \"original_width\": 4608,\n",
      "    \"mime_type\": \"image/jpeg\",\n",
      "    \"caption_attribution_description\": \"Español: Parque Paseo del Sol hacia el Anfiteatro, en la zona de las vías del ferrocarril en Charata.\",\n",
      "    \"wit_features\": {\n",
      "        \"language\": [\n",
      "            \"ar\",\n",
      "            \"es\",\n",
      "            \"ja\",\n",
      "            \"fr\",\n",
      "            \"it\"\n",
      "        ],\n",
      "        \"page_url\": [\n",
      "            \"https://ar.wikipedia.org/wiki/%D8%B4%D8%A7%D8%B1%D8%A7%D8%AA%D8%A7_(%D9%85%D8%AF%D9%8A%D9%86%D8%A9)\",\n",
      "            \"https://es.wikipedia.org/wiki/Charata\",\n",
      "            \"https://ja.wikipedia.org/wiki/%E3%83%81%E3%83%A3%E3%83%A9%E3%82%BF\",\n",
      "            \"https://fr.wikipedia.org/wiki/Province_du_Chaco\",\n",
      "            \"https://it.wikipedia.org/wiki/Charata\"\n",
      "        ],\n",
      "        \"attribution_passes_lang_id\": [\n",
      "            true,\n",
      "            true,\n",
      "            true,\n",
      "            true,\n",
      "            true\n",
      "        ],\n",
      "        \"caption_alt_text_description\": [\n",
      "            null,\n",
      "            null,\n",
      "            \"市内の公園、2014年4月7日\",\n",
      "            null,\n",
      "            \"Charata – Veduta\"\n",
      "        ],\n",
      "        \"caption_reference_description\": [\n",
      "            null,\n",
      "            null,\n",
      "            \"市内の公園、2014年4月7日\",\n",
      "            null,\n",
      "            null\n",
      "        ],\n",
      "        \"caption_title_and_reference_description\": [\n",
      "            \"شاراتا (مدينة) [SEP] \",\n",
      "            \"Charata [SEP] \",\n",
      "            \"チャラタ [SEP] 市内の公園、2014年4月7日\",\n",
      "            null,\n",
      "            \"Charata [SEP] \"\n",
      "        ],\n",
      "        \"context_page_description\": [\n",
      "            \"شاراتا ‏ هي منطقة سكنية تقع في الأرجنتين في Chacabuco Department, Chaco. يقدر عدد سكانها بـ 27,379 نسمة وترتفع عن سطح البحر 85 متر.\",\n",
      "            \"Charata es una localidad argentina, la más importante del sudoeste de la provincia del Chaco. El lema con el que se presenta la localidad y da la bienvenida a quien en ella ingresa es «Charata: la Perla del Oeste». Dentro del municipio también se halla la localidad de Tres Estacas.\",\n",
      "            \"チャラタは、アルゼンチン・チャコ州南部の自治体である。\",\n",
      "            \"La province du Chaco est une subdivision de l'Argentine située au nord du pays. Elle est bordée à l'ouest par les provinces de Salta et de Santiago del Estero, au sud par celle de Santa Fe, au sud-est par celle de Corrientes et par le Paraguay et à l'est et au nord par la province de Formosa.\",\n",
      "            \"Charata è una città argentina, capoluogo del dipartimento di Chacabuco, nella provincia di Chaco.\"\n",
      "        ],\n",
      "        \"context_section_description\": [\n",
      "            \"شاراتا (بالإسبانية: Charata)‏ هي منطقة سكنية تقع في الأرجنتين في Chacabuco Department, Chaco. يقدر عدد سكانها بـ 27,379 نسمة وترتفع عن سطح البحر 85 متر.\",\n",
      "            \"Charata es una localidad argentina, la más importante del sudoeste de la provincia del Chaco. El lema con el que se presenta la localidad y da la bienvenida a quien en ella ingresa es «Charata: la Perla del Oeste». Dentro del municipio también se halla la localidad de Tres Estacas.\",\n",
      "            \"チャラタ（スペイン語: Charata）は、アルゼンチン・チャコ州南部の自治体である。\",\n",
      "            \"Agglomérations de plus de dix mille habitants en 2010 :\",\n",
      "            \"Charata è una città argentina, capoluogo del dipartimento di Chacabuco, nella provincia di Chaco.\"\n",
      "        ],\n",
      "        \"hierarchical_section_title\": [\n",
      "            \"شاراتا (مدينة)\",\n",
      "            \"Charata\",\n",
      "            \"チャラタ\",\n",
      "            \"Province du Chaco / Villes principales\",\n",
      "            \"Charata\"\n",
      "        ],\n",
      "        \"is_main_image\": [\n",
      "            true,\n",
      "            true,\n",
      "            true,\n",
      "            true,\n",
      "            true\n",
      "        ],\n",
      "        \"page_changed_recently\": [\n",
      "            true,\n",
      "            true,\n",
      "            true,\n",
      "            true,\n",
      "            true\n",
      "        ],\n",
      "        \"page_title\": [\n",
      "            \"شاراتا (مدينة)\",\n",
      "            \"Charata\",\n",
      "            \"チャラタ\",\n",
      "            \"Province du Chaco\",\n",
      "            \"Charata\"\n",
      "        ],\n",
      "        \"section_title\": [\n",
      "            null,\n",
      "            null,\n",
      "            null,\n",
      "            \"Villes principales\",\n",
      "            null\n",
      "        ]\n",
      "    },\n",
      "    \"image_name\": \"train-00121-of-00330_9.jpg\"\n",
      "}\n"
     ]
    }
   ],
   "source": [
    "for line in lines:\n",
    "    data = json.loads(line)\n",
    "    print(data.keys())\n",
    "    del data[\"embedding\"]\n",
    "    print(json.dumps(data, ensure_ascii=False, indent=4))\n",
    "    break"
   ]
  },
  {
   "cell_type": "code",
   "execution_count": 5,
   "id": "dbdbc27b-bae2-40d2-b650-f1fb18e6b49c",
   "metadata": {},
   "outputs": [
    {
     "name": "stdout",
     "output_type": "stream",
     "text": [
      "スカイフック気球とはアメリカ海軍の海軍研究本部によって1940年代後半から1950年代にかけて大気の研究、特に高高度における気象観測に使用された無人気球である。\n",
      "スカイフック気球とはアメリカ海軍の海軍研究本部によって1940年代後半から1950年代にかけて大気の研究、特に高高度における気象観測に使用された無人気球である。\n",
      "スカイフック気球\n",
      "スカイフック気球\n"
     ]
    }
   ],
   "source": [
    "line = lines[3]\n",
    "data = json.loads(line)\n",
    "\n",
    "index = data[\"wit_features\"][\"language\"].index(\"ja\")\n",
    "print(data[\"wit_features\"][\"context_page_description\"][index])\n",
    "print(data[\"wit_features\"][\"context_page_description\"][index])\n",
    "print(data[\"wit_features\"][\"hierarchical_section_title\"][index])\n",
    "print(data[\"wit_features\"][\"page_title\"][index])"
   ]
  },
  {
   "cell_type": "code",
   "execution_count": null,
   "id": "d8981564-52b4-4081-9615-7084c8b2a2fa",
   "metadata": {},
   "outputs": [],
   "source": []
  }
 ],
 "metadata": {
  "kernelspec": {
   "display_name": "Python 3 (ipykernel)",
   "language": "python",
   "name": "python3"
  },
  "language_info": {
   "codemirror_mode": {
    "name": "ipython",
    "version": 3
   },
   "file_extension": ".py",
   "mimetype": "text/x-python",
   "name": "python",
   "nbconvert_exporter": "python",
   "pygments_lexer": "ipython3",
   "version": "3.10.14"
  }
 },
 "nbformat": 4,
 "nbformat_minor": 5
}
