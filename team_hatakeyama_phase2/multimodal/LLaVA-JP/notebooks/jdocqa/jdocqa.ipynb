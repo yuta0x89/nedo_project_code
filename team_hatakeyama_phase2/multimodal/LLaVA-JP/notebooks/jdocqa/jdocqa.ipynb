{
 "cells": [
  {
   "cell_type": "code",
   "execution_count": 27,
   "id": "481d02e1-ce56-47c4-9d92-cc0b4ed585e5",
   "metadata": {},
   "outputs": [],
   "source": [
    "import json\n",
    "import random\n",
    "from datasets import load_dataset\n",
    "from pathlib import Path"
   ]
  },
  {
   "cell_type": "code",
   "execution_count": 2,
   "id": "f8706f61-6320-4f97-8cfb-aa25f51927cd",
   "metadata": {},
   "outputs": [],
   "source": [
    "dataset = load_dataset(\n",
    "  path=\"shunk031/JDocQA\", \n",
    "  # Rename to the same wording as in the paper: Document -> Report / Kouhou -> Pamphlet\n",
    "  rename_pdf_category=True,\n",
    "  # Set to True to use loading script for huggingface datasets\n",
    "  trust_remote_code=True,\n",
    ")"
   ]
  },
  {
   "cell_type": "code",
   "execution_count": 3,
   "id": "5c8a7882-b6d3-4f44-aa38-23181ad6ee10",
   "metadata": {},
   "outputs": [
    {
     "name": "stdout",
     "output_type": "stream",
     "text": [
      "DatasetDict({\n",
      "    train: Dataset({\n",
      "        features: ['answer', 'answer_type', 'context', 'multiple_select_answer', 'multiple_select_question', 'no_reason', 'normalized_answer', 'original_answer', 'original_context', 'original_question', 'pdf_category', 'pdf_name', 'question', 'question_number', 'question_page_number', 'reason_of_answer_bbox', 'text_from_ocr_pdf', 'text_from_pdf', 'type_of_image', 'pdf_filepath'],\n",
      "        num_rows: 9290\n",
      "    })\n",
      "    validation: Dataset({\n",
      "        features: ['answer', 'answer_type', 'context', 'multiple_select_answer', 'multiple_select_question', 'no_reason', 'normalized_answer', 'original_answer', 'original_context', 'original_question', 'pdf_category', 'pdf_name', 'question', 'question_number', 'question_page_number', 'reason_of_answer_bbox', 'text_from_ocr_pdf', 'text_from_pdf', 'type_of_image', 'pdf_filepath'],\n",
      "        num_rows: 1134\n",
      "    })\n",
      "    test: Dataset({\n",
      "        features: ['answer', 'answer_type', 'context', 'multiple_select_answer', 'multiple_select_question', 'no_reason', 'normalized_answer', 'original_answer', 'original_context', 'original_question', 'pdf_category', 'pdf_name', 'question', 'question_number', 'question_page_number', 'reason_of_answer_bbox', 'text_from_ocr_pdf', 'text_from_pdf', 'type_of_image', 'pdf_filepath'],\n",
      "        num_rows: 1176\n",
      "    })\n",
      "})\n"
     ]
    }
   ],
   "source": [
    "print(dataset)"
   ]
  },
  {
   "cell_type": "code",
   "execution_count": 4,
   "id": "feeaf1d6-710c-40e0-aad5-7544b1a711b8",
   "metadata": {},
   "outputs": [
    {
     "name": "stdout",
     "output_type": "stream",
     "text": [
      "Dataset({\n",
      "    features: ['answer', 'answer_type', 'context', 'multiple_select_answer', 'multiple_select_question', 'no_reason', 'normalized_answer', 'original_answer', 'original_context', 'original_question', 'pdf_category', 'pdf_name', 'question', 'question_number', 'question_page_number', 'reason_of_answer_bbox', 'text_from_ocr_pdf', 'text_from_pdf', 'type_of_image', 'pdf_filepath'],\n",
      "    num_rows: 9290\n",
      "})\n"
     ]
    }
   ],
   "source": [
    "print(dataset[\"train\"])"
   ]
  },
  {
   "cell_type": "code",
   "execution_count": 22,
   "id": "d7b6e2ed-ec36-42dd-a280-8e1fb2ddf038",
   "metadata": {},
   "outputs": [
    {
     "name": "stdout",
     "output_type": "stream",
     "text": [
      "{\n",
      "    \"answer\": \"本文中に記載がありません\",\n",
      "    \"answer_type\": 1,\n",
      "    \"context\": \"平成19年度から|ラwapら和のさンノ税源移議))271へ税制改正により、平成19年度分の住民税(個人市民税と個人県民税を合わーーせたもの)が一部改正されます。平成19年度分の住民税とは、平成18年中の所得により計算され、平成19年6<照会先>月から納めていただくものです。税務課玉23一88931.所得税から住民税へ「地方にできることは地方に」という方針のもと、地方分権の推進のたにンーっ=めに三位一体改革の一環として、所得税(国)から個人住民税(地方)税源移譲への税源移譲が行われます。(1)税率が変更になります@住民税の税率が、3段階から一律10%(市民税6%・県民税4%)に変わります。(平成19年6月分から適用)@所得税の税率は、4段階から6段階に細分化されます。(平成19年1月分から適用)@所得税は減少、住民税は増加となりますが、税源の移し替えなので「所得税+住民税」の負担額は基本的には変わりません。税源移譲前誠にととう課税所得課税所得民|200万円超ご700万円以下ー律(市民税6%)|am|叶UN330万円超900万円以下195万円超330万円以下900万円超1.800万円以下330万円超こ695万円以下G95遇人ご907290|900万円超1800万円以下(例)夫婦二子ども2人の場合II税源移譲前(単位:円)税源移譲後(単位:円)負担PIA|mWRMWamm||mmlswl議|0|wolwol王|emEDsm※1子どものうち1人は特定扶養親族に該当するものとしています。※2一定の社会保険料が控除されるものとして計算しています。※3住民税には、均等割は含まれていません。※4税源移譲前の所得税および住民税は、定率減税額を差し引く前の金額となっています。2007.2.15広報世き4\",\n",
      "    \"multiple_select_answer\": 3,\n",
      "    \"multiple_select_question\": [\n",
      "        \"なし。\",\n",
      "        \"あります。\",\n",
      "        \"男性のみ。\",\n",
      "        \"わからない。\"\n",
      "    ],\n",
      "    \"no_reason\": 0,\n",
      "    \"normalized_answer\": \"本文中に記載がありません\",\n",
      "    \"original_answer\": \"わからない。\",\n",
      "    \"original_context\": \"平成19年度から|ラwapら和のさンノ税源移議))271へ税制改正により、平成19年度分の住民税(個人市民税と個人県民税を合わーーせたもの)が一部改正されます。平成19年度分の住民税とは、平成18年中の所得により計算され、平成19年6<照会先>月から納めていただくものです。税務課玉23一88931.所得税から住民税へ「地方にできることは地方に」という方針のもと、地方分権の推進のたにンーっ=めに三位一体改革の一環として、所得税(国)から個人住民税(地方)税源移譲への税源移譲が行われます。(1)税率が変更になります@住民税の税率が、3段階から一律10%(市民税6%・県民税4%)に変わります。(平成19年6月分から適用)@所得税の税率は、4段階から6段階に細分化されます。(平成19年1月分から適用)@所得税は減少、住民税は増加となりますが、税源の移し替えなので「所得税+住民税」の負担額は基本的には変わりません。税源移譲前誠にととう課税所得課税所得民|200万円超ご700万円以下ー律(市民税6%)|am|叶UN330万円超900万円以下195万円超330万円以下900万円超1.800万円以下330万円超こ695万円以下G95遇人ご907290|900万円超1800万円以下(例)夫婦二子ども2人の場合II税源移譲前(単位:円)税源移譲後(単位:円)負担PIA|mWRMWamm||mmlswl議|0|wolwol王|emEDsm※1子どものうち1人は特定扶養親族に該当するものとしています。※2一定の社会保険料が控除されるものとして計算しています。※3住民税には、均等割は含まれていません。※4税源移譲前の所得税および住民税は、定率減税額を差し引く前の金額となっています。2007.2.15広報世き4\",\n",
      "    \"original_question\": \"関市では住民税の仕組みが変更しますが、男女での違いはありますか。\",\n",
      "    \"pdf_category\": 1,\n",
      "    \"pdf_name\": \"kouhou00567.pdf\",\n",
      "    \"question\": \"関市では住民税の仕組みが変更しますが、男女での違いはありますか。\\n解答は事実のみを抜き出してください。\",\n",
      "    \"question_number\": [\n",
      "        1\n",
      "    ],\n",
      "    \"question_page_number\": \"4\",\n",
      "    \"reason_of_answer_bbox\": [\n",
      "        \"\"\n",
      "    ],\n",
      "    \"text_from_ocr_pdf\": \"平成19年度から|ラwapら和のさンノ税源移議))271へ税制改正により、平成19年度分の住民税(個人市民税と個人県民税を合わーーせたもの)が一部改正されます。平成19年度分の住民税とは、平成18年中の所得により計算され、平成19年6<照会先>月から納めていただくものです。税務課玉23一88931.所得税から住民税へ「地方にできることは地方に」という方針のもと、地方分権の推進のたにンーっ=めに三位一体改革の一環として、所得税(国)から個人住民税(地方)税源移譲への税源移譲が行われます。(1)税率が変更になります@住民税の税率が、3段階から一律10%(市民税6%・県民税4%)に変わります。(平成19年6月分から適用)@所得税の税率は、4段階から6段階に細分化されます。(平成19年1月分から適用)@所得税は減少、住民税は増加となりますが、税源の移し替えなので「所得税+住民税」の負担額は基本的には変わりません。税源移譲前誠にととう課税所得課税所得民|200万円超ご700万円以下ー律(市民税6%)|am|叶UN330万円超900万円以下195万円超330万円以下900万円超1.800万円以下330万円超こ695万円以下G95遇人ご907290|900万円超1800万円以下(例)夫婦二子ども2人の場合II税源移譲前(単位:円)税源移譲後(単位:円)負担PIA|mWRMWamm||mmlswl議|0|wolwol王|emEDsm※1子どものうち1人は特定扶養親族に該当するものとしています。※2一定の社会保険料が控除されるものとして計算しています。※3住民税には、均等割は含まれていません。※4税源移譲前の所得税および住民税は、定率減税額を差し引く前の金額となっています。2007.2.15広報世き4\",\n",
      "    \"text_from_pdf\": \"\",\n",
      "    \"type_of_image\": [\n",
      "        9\n",
      "    ],\n",
      "    \"pdf_filepath\": \"/home/docker/.cache/huggingface/datasets/downloads/extracted/dc61cedf4ebd1e1513802eee0045bb3e1586f4f00e107cdbbf14e09966f7c72c/pdf_files/kouhou00567.pdf\"\n",
      "}\n"
     ]
    }
   ],
   "source": [
    "print(json.dumps(dataset[\"train\"][14], indent=4, ensure_ascii=False))"
   ]
  },
  {
   "cell_type": "code",
   "execution_count": 6,
   "id": "c766bbef-5169-4200-b629-501a9614b90c",
   "metadata": {},
   "outputs": [
    {
     "name": "stdout",
     "output_type": "stream",
     "text": [
      "dict_keys(['answer', 'answer_type', 'context', 'multiple_select_answer', 'multiple_select_question', 'no_reason', 'normalized_answer', 'original_answer', 'original_context', 'original_question', 'pdf_category', 'pdf_name', 'question', 'question_number', 'question_page_number', 'reason_of_answer_bbox', 'text_from_ocr_pdf', 'text_from_pdf', 'type_of_image', 'pdf_filepath'])\n"
     ]
    }
   ],
   "source": [
    "print(dataset[\"train\"][0].keys())"
   ]
  },
  {
   "cell_type": "code",
   "execution_count": 29,
   "id": "db334fd6-f9db-48f7-af1d-781aa0aafa5c",
   "metadata": {},
   "outputs": [],
   "source": [
    "ocr_instructions = [\n",
    "    \"テキストを抽出してください。\",\n",
    "    \"文字を認識して、テキストファイルに変換してください。\",\n",
    "    \"OCR処理を実行してください。\",\n",
    "    \"読み取ったテキストを表示してください。\",\n",
    "    \"文字情報を取得してください。\",\n",
    "    \"テキストを読み取ってください。\",\n",
    "    \"OCRして、文字データを抽出してください。\",\n",
    "    \"文字を認識し、テキストデータに変換してください。\",\n",
    "    \"OCR解析を行い、テキストを取得してください。\",\n",
    "    \"文字を検出し、テキスト化してください。\",\n",
    "    \"文字情報を読み取ってください。\",\n",
    "    \"テキストデータを生成してください。\",\n",
    "    \"OCRを実行して、文字を取得してください。\",\n",
    "    \"認識されたテキストを表示してください。\",\n",
    "    \"文字認識を行ってください。\",\n",
    "    \"文字を抽出して、テキストに変換してください。\",\n",
    "    \"OCR技術を使ってテキストを取得してください。\",\n",
    "    \"文字を読み取ってテキストデータにしてください。\",\n",
    "    \"テキストを解析して取得してください。\",\n",
    "    \"OCR処理で文字を認識してください。\",\n",
    "    \"文字を読み取ってテキスト化してください。\",\n",
    "    \"文字情報をテキストデータに変換してください。\",\n",
    "    \"OCR解析でテキストを抽出してください。\",\n",
    "    \"文字認識を行い、テキストファイルを作成してください。\",\n",
    "    \"OCR技術で文字情報を抽出してください。\",\n",
    "    \"文字を認識して、テキスト形式に変換してください。\",\n",
    "    \"OCRを使用して文字データを取得してください。\",\n",
    "    \"テキスト認識を実行してください。\",\n",
    "    \"文字情報を読み取ってテキスト化してください。\",\n",
    "    \"OCR処理を行い、テキストデータを生成してください。\",\n",
    "]"
   ]
  },
  {
   "cell_type": "code",
   "execution_count": 23,
   "id": "ed07c80c-04f5-407c-91e7-62d285aaa52f",
   "metadata": {},
   "outputs": [],
   "source": [
    "def create_llava_format(data):\n",
    "    llava_format = {}\n",
    "    conversations = []\n",
    "\n",
    "    conversation_user = {\n",
    "        'from': 'ユーザー',\n",
    "        'value': f'{data[\"question\"]}\\n<image>'\n",
    "    }\n",
    "\n",
    "    conversation_system = {\n",
    "        'from': 'システム',\n",
    "        'value': data[\"original_answer\"]\n",
    "    }\n",
    "    conversations.append(conversation_user)\n",
    "    conversations.append(conversation_system)\n",
    "\n",
    "    pdf_path = Path(data[\"pdf_filepath\"])\n",
    "    \n",
    "    llava_format['image'] = f\"{pdf_path.stem + '_' + data['question_page_number']}.jpg\"\n",
    "    llava_format['conversations'] = conversations\n",
    "\n",
    "    #print(llava_format)\n",
    "\n",
    "    return llava_format"
   ]
  },
  {
   "cell_type": "code",
   "execution_count": 31,
   "id": "45c637dc-9da5-4390-8a61-71021e100f6e",
   "metadata": {},
   "outputs": [
    {
     "name": "stdout",
     "output_type": "stream",
     "text": [
      "18504\n"
     ]
    }
   ],
   "source": [
    "llava_formats = []\n",
    "\n",
    "# VQA\n",
    "for data in dataset[\"train\"]:\n",
    "    llava_formats.append(create_llava_format(data))\n",
    "\n",
    "# OCR\n",
    "for data in dataset[\"train\"]:\n",
    "    data[\"question\"] = random.choice(ocr_instructions)\n",
    "\n",
    "    if data[\"text_from_ocr_pdf\"] != \"\" and data[\"text_from_ocr_pdf\"] is not None:\n",
    "        data[\"original_answer\"] = data[\"text_from_ocr_pdf\"]\n",
    "\n",
    "        llava_formats.append(create_llava_format(data))\n",
    "\n",
    "print(len(llava_formats))\n",
    "\n",
    "caption_path = Path('.', 'jdocqa.json')\n",
    "\n",
    "with open(caption_path, mode=\"w\") as f:\n",
    "    json.dump(llava_formats, f, indent=2, ensure_ascii=False)"
   ]
  },
  {
   "cell_type": "code",
   "execution_count": null,
   "id": "2233178a-e883-41d7-b265-ab98a33a1480",
   "metadata": {},
   "outputs": [],
   "source": []
  }
 ],
 "metadata": {
  "kernelspec": {
   "display_name": "Python 3 (ipykernel)",
   "language": "python",
   "name": "python3"
  },
  "language_info": {
   "codemirror_mode": {
    "name": "ipython",
    "version": 3
   },
   "file_extension": ".py",
   "mimetype": "text/x-python",
   "name": "python",
   "nbconvert_exporter": "python",
   "pygments_lexer": "ipython3",
   "version": "3.10.14"
  }
 },
 "nbformat": 4,
 "nbformat_minor": 5
}
