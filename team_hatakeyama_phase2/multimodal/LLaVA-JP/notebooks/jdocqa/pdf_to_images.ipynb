{
 "cells": [
  {
   "cell_type": "code",
   "execution_count": 1,
   "id": "65babd3d-f0c2-4028-bedb-cf427684a9ec",
   "metadata": {},
   "outputs": [],
   "source": [
    "import sys\n",
    "from pathlib import Path\n",
    "import fitz"
   ]
  },
  {
   "cell_type": "code",
   "execution_count": 2,
   "id": "89f6d1ee-90a5-492d-a5ae-a2c15bb0cbb3",
   "metadata": {},
   "outputs": [],
   "source": [
    "def main(file_path_list, output_folder):\n",
    "    \"\"\"PDFファイルのページを画像ファイルに変換する\n",
    "    \n",
    "    Args:\n",
    "        file_path_list (list): PDFファイルパス名のリスト\n",
    "        output_folder (str): 画像ファイルを出力するフォルダ\n",
    "    \"\"\"\n",
    "    output_folder_path = Path(output_folder)\n",
    "    output_folder_path.mkdir(parents=True, exist_ok=True)\n",
    "    \n",
    "    for file_path in file_path_list:\n",
    "        path_file = Path(file_path)\n",
    "        base_file_name = path_file.stem\n",
    "\n",
    "        # PDFファイルを開く\n",
    "        pdf = fitz.open(file_path)\n",
    "\n",
    "        # 1ページずつ画像ファイルとして保存する\n",
    "        for i, page in enumerate(pdf):\n",
    "            pix = page.get_pixmap()\n",
    "            image_f_name = f'{base_file_name}_{str(i+1)}.jpg'\n",
    "            image_f_path = output_folder_path / image_f_name\n",
    "            pix.save(image_f_path)"
   ]
  },
  {
   "cell_type": "code",
   "execution_count": 3,
   "id": "9d38efd1-a538-4d4b-a93d-c61209138e68",
   "metadata": {},
   "outputs": [],
   "source": [
    "def get_file_paths(directory, extension=None):\n",
    "    \"\"\"指定したディレクトリ直下のファイルパスのリストを取得\n",
    "    \n",
    "    Args:\n",
    "        directory (str): ディレクトリのパス\n",
    "        extension (str, optional): ファイル拡張子（例: '.pdf'）\n",
    "    \n",
    "    Returns:\n",
    "        list: ファイルパスのリスト\n",
    "    \"\"\"\n",
    "    directory_path = Path(directory).resolve()\n",
    "    if extension:\n",
    "        return [str(file) for file in directory_path.glob(f'*{extension}')]\n",
    "    else:\n",
    "        return [str(file) for file in directory_path.iterdir() if file.is_file()]"
   ]
  },
  {
   "cell_type": "code",
   "execution_count": 4,
   "id": "93128de5-aeaf-4783-87cd-7f03ae44f1f6",
   "metadata": {},
   "outputs": [
    {
     "name": "stdout",
     "output_type": "stream",
     "text": [
      "['/home/docker/LLaVA-JP/notebooks/jdocqa/data/kouhou00000.pdf', '/home/docker/LLaVA-JP/notebooks/jdocqa/data/public_document00152.pdf']\n"
     ]
    }
   ],
   "source": [
    "pdf_file_paths = get_file_paths(\"./data\", extension='.pdf')\n",
    "print(pdf_file_paths)"
   ]
  },
  {
   "cell_type": "code",
   "execution_count": 5,
   "id": "799d5868-f8bf-4383-bd62-108c962f8968",
   "metadata": {},
   "outputs": [],
   "source": [
    "main(pdf_file_paths, \"./data/output\")"
   ]
  },
  {
   "cell_type": "code",
   "execution_count": null,
   "id": "afc30444-1688-4dd1-9c64-5ea915bfc74f",
   "metadata": {},
   "outputs": [],
   "source": []
  }
 ],
 "metadata": {
  "kernelspec": {
   "display_name": "Python 3 (ipykernel)",
   "language": "python",
   "name": "python3"
  },
  "language_info": {
   "codemirror_mode": {
    "name": "ipython",
    "version": 3
   },
   "file_extension": ".py",
   "mimetype": "text/x-python",
   "name": "python",
   "nbconvert_exporter": "python",
   "pygments_lexer": "ipython3",
   "version": "3.10.14"
  }
 },
 "nbformat": 4,
 "nbformat_minor": 5
}
